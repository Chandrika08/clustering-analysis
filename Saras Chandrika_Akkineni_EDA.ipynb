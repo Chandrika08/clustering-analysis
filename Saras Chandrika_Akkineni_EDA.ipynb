{
  "nbformat": 4,
  "nbformat_minor": 0,
  "metadata": {
    "colab": {
      "provenance": []
    },
    "kernelspec": {
      "name": "python3",
      "display_name": "Python 3"
    },
    "language_info": {
      "name": "python"
    }
  },
  "cells": [
    {
      "cell_type": "markdown",
      "source": [
        "# Task 1: Exploratory Data Analysis (EDA) and Business Insights"
      ],
      "metadata": {
        "id": "Wr09wPuX2XpI"
      }
    },
    {
      "cell_type": "markdown",
      "source": [
        "# Step 1: Loading the Data"
      ],
      "metadata": {
        "id": "nZ0yJcWKr2DB"
      }
    },
    {
      "cell_type": "code",
      "execution_count": 1,
      "metadata": {
        "id": "CV2MtOkzj3u_"
      },
      "outputs": [],
      "source": [
        "import pandas as pd\n",
        "\n",
        "# Load the datasets\n",
        "customers_df = pd.read_csv(\"/content/Customers.csv\")\n",
        "products_df = pd.read_csv(\"/content/Products.csv\")\n",
        "transactions_df = pd.read_csv(\"/content/Transactions.csv\")"
      ]
    },
    {
      "cell_type": "markdown",
      "source": [
        "# Step 2: Checking the Data Structure"
      ],
      "metadata": {
        "id": "QJE8K2V8sYc_"
      }
    },
    {
      "cell_type": "code",
      "source": [
        "# Check the first few rows\n",
        "print(customers_df.head())\n",
        "print(products_df.head())\n",
        "print(transactions_df.head())\n",
        "\n",
        "# Check data types and null values\n",
        "print(customers_df.info())\n",
        "print(products_df.info())\n",
        "print(transactions_df.info())"
      ],
      "metadata": {
        "colab": {
          "base_uri": "https://localhost:8080/"
        },
        "id": "cTeeT6XhsdLA",
        "outputId": "68b22451-9950-4b2c-d5a4-857819054c97"
      },
      "execution_count": 2,
      "outputs": [
        {
          "output_type": "stream",
          "name": "stdout",
          "text": [
            "  CustomerID        CustomerName         Region  SignupDate\n",
            "0      C0001    Lawrence Carroll  South America  2022-07-10\n",
            "1      C0002      Elizabeth Lutz           Asia  2022-02-13\n",
            "2      C0003      Michael Rivera  South America  2024-03-07\n",
            "3      C0004  Kathleen Rodriguez  South America  2022-10-09\n",
            "4      C0005         Laura Weber           Asia  2022-08-15\n",
            "  ProductID              ProductName     Category   Price\n",
            "0      P001     ActiveWear Biography        Books  169.30\n",
            "1      P002    ActiveWear Smartwatch  Electronics  346.30\n",
            "2      P003  ComfortLiving Biography        Books   44.12\n",
            "3      P004            BookWorld Rug   Home Decor   95.69\n",
            "4      P005          TechPro T-Shirt     Clothing  429.31\n",
            "  TransactionID CustomerID ProductID      TransactionDate  Quantity  \\\n",
            "0        T00001      C0199      P067  2024-08-25 12:38:23         1   \n",
            "1        T00112      C0146      P067  2024-05-27 22:23:54         1   \n",
            "2        T00166      C0127      P067  2024-04-25 07:38:55         1   \n",
            "3        T00272      C0087      P067  2024-03-26 22:55:37         2   \n",
            "4        T00363      C0070      P067  2024-03-21 15:10:10         3   \n",
            "\n",
            "   TotalValue   Price  \n",
            "0      300.68  300.68  \n",
            "1      300.68  300.68  \n",
            "2      300.68  300.68  \n",
            "3      601.36  300.68  \n",
            "4      902.04  300.68  \n",
            "<class 'pandas.core.frame.DataFrame'>\n",
            "RangeIndex: 200 entries, 0 to 199\n",
            "Data columns (total 4 columns):\n",
            " #   Column        Non-Null Count  Dtype \n",
            "---  ------        --------------  ----- \n",
            " 0   CustomerID    200 non-null    object\n",
            " 1   CustomerName  200 non-null    object\n",
            " 2   Region        200 non-null    object\n",
            " 3   SignupDate    200 non-null    object\n",
            "dtypes: object(4)\n",
            "memory usage: 6.4+ KB\n",
            "None\n",
            "<class 'pandas.core.frame.DataFrame'>\n",
            "RangeIndex: 100 entries, 0 to 99\n",
            "Data columns (total 4 columns):\n",
            " #   Column       Non-Null Count  Dtype  \n",
            "---  ------       --------------  -----  \n",
            " 0   ProductID    100 non-null    object \n",
            " 1   ProductName  100 non-null    object \n",
            " 2   Category     100 non-null    object \n",
            " 3   Price        100 non-null    float64\n",
            "dtypes: float64(1), object(3)\n",
            "memory usage: 3.3+ KB\n",
            "None\n",
            "<class 'pandas.core.frame.DataFrame'>\n",
            "RangeIndex: 1000 entries, 0 to 999\n",
            "Data columns (total 7 columns):\n",
            " #   Column           Non-Null Count  Dtype  \n",
            "---  ------           --------------  -----  \n",
            " 0   TransactionID    1000 non-null   object \n",
            " 1   CustomerID       1000 non-null   object \n",
            " 2   ProductID        1000 non-null   object \n",
            " 3   TransactionDate  1000 non-null   object \n",
            " 4   Quantity         1000 non-null   int64  \n",
            " 5   TotalValue       1000 non-null   float64\n",
            " 6   Price            1000 non-null   float64\n",
            "dtypes: float64(2), int64(1), object(4)\n",
            "memory usage: 54.8+ KB\n",
            "None\n"
          ]
        }
      ]
    },
    {
      "cell_type": "markdown",
      "source": [
        "# Step 3: Identify Missing Values and Duplicates"
      ],
      "metadata": {
        "id": "LbcCuFl6ssId"
      }
    },
    {
      "cell_type": "code",
      "source": [
        "# Missing values\n",
        "print(customers_df.isnull().sum())\n",
        "print(products_df.isnull().sum())\n",
        "print(transactions_df.isnull().sum())\n",
        "\n",
        "# Duplicates\n",
        "print(customers_df.duplicated().sum())\n",
        "print(products_df.duplicated().sum())\n",
        "print(transactions_df.duplicated().sum())"
      ],
      "metadata": {
        "colab": {
          "base_uri": "https://localhost:8080/"
        },
        "id": "XJ7cZrGRsubE",
        "outputId": "e2aa997e-1a44-4753-df35-b3f849ed186d"
      },
      "execution_count": 3,
      "outputs": [
        {
          "output_type": "stream",
          "name": "stdout",
          "text": [
            "CustomerID      0\n",
            "CustomerName    0\n",
            "Region          0\n",
            "SignupDate      0\n",
            "dtype: int64\n",
            "ProductID      0\n",
            "ProductName    0\n",
            "Category       0\n",
            "Price          0\n",
            "dtype: int64\n",
            "TransactionID      0\n",
            "CustomerID         0\n",
            "ProductID          0\n",
            "TransactionDate    0\n",
            "Quantity           0\n",
            "TotalValue         0\n",
            "Price              0\n",
            "dtype: int64\n",
            "0\n",
            "0\n",
            "0\n"
          ]
        }
      ]
    },
    {
      "cell_type": "markdown",
      "source": [
        "# Step 5: Merge Datasets for detailed analysis"
      ],
      "metadata": {
        "id": "7IfQi5JFtBZV"
      }
    },
    {
      "cell_type": "code",
      "source": [
        "# Merge transactions with customers\n",
        "merged_df = transactions_df.merge(customers_df, on=\"CustomerID\", how=\"left\")\n",
        "\n",
        "# Merge the result with products\n",
        "merged_df = merged_df.merge(products_df, on=\"ProductID\", how=\"left\")\n",
        "\n",
        "# Inspect the merged dataset\n",
        "print(merged_df.head())"
      ],
      "metadata": {
        "colab": {
          "base_uri": "https://localhost:8080/"
        },
        "id": "yeTkbhbKtF7I",
        "outputId": "3eb10d56-7dcf-4994-cd1b-3dc3435d886f"
      },
      "execution_count": 4,
      "outputs": [
        {
          "output_type": "stream",
          "name": "stdout",
          "text": [
            "  TransactionID CustomerID ProductID      TransactionDate  Quantity  \\\n",
            "0        T00001      C0199      P067  2024-08-25 12:38:23         1   \n",
            "1        T00112      C0146      P067  2024-05-27 22:23:54         1   \n",
            "2        T00166      C0127      P067  2024-04-25 07:38:55         1   \n",
            "3        T00272      C0087      P067  2024-03-26 22:55:37         2   \n",
            "4        T00363      C0070      P067  2024-03-21 15:10:10         3   \n",
            "\n",
            "   TotalValue  Price_x     CustomerName         Region  SignupDate  \\\n",
            "0      300.68   300.68   Andrea Jenkins         Europe  2022-12-03   \n",
            "1      300.68   300.68  Brittany Harvey           Asia  2024-09-04   \n",
            "2      300.68   300.68  Kathryn Stevens         Europe  2024-04-04   \n",
            "3      601.36   300.68  Travis Campbell  South America  2024-04-11   \n",
            "4      902.04   300.68    Timothy Perez         Europe  2022-03-15   \n",
            "\n",
            "                       ProductName     Category  Price_y  \n",
            "0  ComfortLiving Bluetooth Speaker  Electronics   300.68  \n",
            "1  ComfortLiving Bluetooth Speaker  Electronics   300.68  \n",
            "2  ComfortLiving Bluetooth Speaker  Electronics   300.68  \n",
            "3  ComfortLiving Bluetooth Speaker  Electronics   300.68  \n",
            "4  ComfortLiving Bluetooth Speaker  Electronics   300.68  \n"
          ]
        }
      ]
    },
    {
      "cell_type": "markdown",
      "source": [
        "# Step 6: Performing EDA"
      ],
      "metadata": {
        "id": "CHL84M_itRW9"
      }
    },
    {
      "cell_type": "code",
      "source": [
        "#1. Customer Distribution by Region\n",
        "region_counts = customers_df['Region'].value_counts()\n",
        "print(\"1. Region counts: \", region_counts)\n",
        "\n",
        "#2. Most Popular Products\n",
        "popular_products = merged_df['ProductName'].value_counts().head(10)\n",
        "print(\"2. Most popular products: \", popular_products)\n",
        "\n",
        "#3. Revenue by Region\n",
        "revenue_by_region = merged_df.groupby('Region')['TotalValue'].sum()\n",
        "print(\"3. Revenue by region: \", revenue_by_region)\n",
        "\n",
        "#4. Transaction Trends Over Time\n",
        "merged_df['TransactionDate'] = pd.to_datetime(merged_df['TransactionDate'])\n",
        "merged_df.set_index('TransactionDate')['TotalValue'].resample('M').sum().plot()\n",
        "\n",
        "#5. Average Order Value\n",
        "avg_order_value = merged_df['TotalValue'].mean()\n",
        "print(\"5. Avg order value: \", avg_order_value)"
      ],
      "metadata": {
        "colab": {
          "base_uri": "https://localhost:8080/",
          "height": 955
        },
        "id": "FSU4lEettUs7",
        "outputId": "edab03ce-24f2-474f-81cb-5ff98a06b103"
      },
      "execution_count": 7,
      "outputs": [
        {
          "output_type": "stream",
          "name": "stdout",
          "text": [
            "1. Region counts:  Region\n",
            "South America    59\n",
            "Europe           50\n",
            "North America    46\n",
            "Asia             45\n",
            "Name: count, dtype: int64\n",
            "2. Most popular products:  ProductName\n",
            "ActiveWear Smartwatch    40\n",
            "SoundWave Headphones     38\n",
            "BookWorld Biography      30\n",
            "ActiveWear Rug           29\n",
            "SoundWave Cookbook       29\n",
            "HomeSense Desk Lamp      28\n",
            "ActiveWear Jacket        26\n",
            "TechPro Textbook         25\n",
            "TechPro T-Shirt          24\n",
            "ActiveWear Textbook      23\n",
            "Name: count, dtype: int64\n",
            "3. Revenue by region:  Region\n",
            "Asia             152074.97\n",
            "Europe           166254.63\n",
            "North America    152313.40\n",
            "South America    219352.56\n",
            "Name: TotalValue, dtype: float64\n",
            "5. Avg order value:  689.9955600000001\n"
          ]
        },
        {
          "output_type": "stream",
          "name": "stderr",
          "text": [
            "<ipython-input-7-4e78540fa7e3>:15: FutureWarning: 'M' is deprecated and will be removed in a future version, please use 'ME' instead.\n",
            "  merged_df.set_index('TransactionDate')['TotalValue'].resample('M').sum().plot()\n"
          ]
        },
        {
          "output_type": "display_data",
          "data": {
            "text/plain": [
              "<Figure size 640x480 with 1 Axes>"
            ],
            "image/png": "[encoded data removed]"
          },
          "metadata": {}
        }
      ]
    }
  ]
}